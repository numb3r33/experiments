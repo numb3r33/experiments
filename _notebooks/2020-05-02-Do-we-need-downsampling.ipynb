{
 "cells": [
  {
   "cell_type": "markdown",
   "metadata": {},
   "source": [
    "# Do we need downsampling?\n",
    "> Understanding deep cnn architectures.\n",
    "\n",
    "- toc: true \n",
    "- badges: true\n",
    "- comments: true\n",
    "- sticky_rank: 3\n",
    "- author: Abhishek Sharma\n",
    "- image: images/do_we_need_downsampling.png\n",
    "- categories: [deeplearning, fastai, cnn]"
   ]
  },
  {
   "cell_type": "markdown",
   "metadata": {},
   "source": [
    "## Objective\n",
    "\n",
    "Deep CNN architecutures are made up of many components like conv layer, activation function, pooling layers, batch-norm layer etc.All of them are designed for  specific reasons and to better understand the effect of these components it is important to play with them. For example, we include layers like pooling, strided convolution etc to reduce the size of the input.\n",
    "\n",
    "If we look at the architecture of VGG below, we see that lot of max_pooling layers are used. The idea is to increase the receptive field and decrease the number of parameters by reducing the size of the input. But then a question arises, do we really need to downsample? Luckily I came across this [repository](https://github.com/akkaze/cnn-without-any-downsampling) where this specific question is addressed and the [author](https://github.com/akkaze) has tried to replace downsampling layers with dilated convolutions or large kernels with appropriate padding to address this issue. The purpose of this post is to implement and validate these ideas by performing the above mentioned experiments on CIFAR-10 dataset using `fastai`. The intention is to show how easy it is for us to experiment using `fastai`. "
   ]
  },
  {
   "cell_type": "markdown",
   "metadata": {},
   "source": [
    "![](images/vgg16_annotated.png)"
   ]
  },
  {
   "cell_type": "markdown",
   "metadata": {},
   "source": [
    "### Libraries"
   ]
  },
  {
   "cell_type": "markdown",
   "metadata": {},
   "source": [
    "let's start by installing fastai2 and keras"
   ]
  },
  {
   "cell_type": "code",
   "execution_count": 1,
   "metadata": {},
   "outputs": [],
   "source": [
    "!pip install fastai2 keras > /dev/null"
   ]
  },
  {
   "cell_type": "code",
   "execution_count": 2,
   "metadata": {},
   "outputs": [],
   "source": [
    "from fastai2.vision.all import *\n",
    "from keras.datasets import cifar10"
   ]
  },
  {
   "cell_type": "markdown",
   "metadata": {},
   "source": [
    "### Dataset\n",
    "\n",
    "We are going to train our network on `CIFAR-10` dataset. `CIFAR-10`  is an established computer-vision dataset used for object recognition. It is a subset of the 80 million tiny images dataset and consists of 60,000 32x32 color images containing one of 10 object classes, with 6000 images per class. It was collected by Alex Krizhevsky, Vinod Nair, and Geoffrey Hinton."
   ]
  },
  {
   "cell_type": "code",
   "execution_count": 3,
   "metadata": {},
   "outputs": [],
   "source": [
    "(x_train,y_train),(x_test,y_test) = cifar10.load_data()"
   ]
  },
  {
   "cell_type": "markdown",
   "metadata": {},
   "source": [
    "### Datasets API\n",
    "\n",
    "This is where fastai comes in with its flexible api to form a dataset that is easily consumable by the models. We are passing a list of pairs of (image, label) to the pipeline. No data augmentation is applied. To validate our ideas we will keep a separate holdout set. If you want to understand more about Datasets api please read official [docs](https://dev.fast.ai/data.core#Datasets)"
   ]
  },
  {
   "cell_type": "code",
   "execution_count": null,
   "metadata": {},
   "outputs": [],
   "source": [
    "items = np.array(list(zip(x_train, y_train.ravel())))\n",
    "\n",
    "# 80-20 percent split\n",
    "splits = RandomSplitter(seed=42)(items)\n",
    "tfms   = [[lambda x: x[0], PILImage.create], [lambda x: x[1], Categorize()]]\n",
    "\n",
    "dsets = Datasets(items, tfms, splits=splits)\n",
    "dls = dsets.dataloaders(bs=64, after_item=[ToTensor(), IntToFloatTensor()])"
   ]
  },
  {
   "cell_type": "code",
   "execution_count": null,
   "metadata": {},
   "outputs": [],
   "source": [
    "dls.show_batch(figsize=(4, 4))"
   ]
  },
  {
   "cell_type": "markdown",
   "metadata": {},
   "source": [
    "![](images/dl_show_batch.png)"
   ]
  },
  {
   "cell_type": "markdown",
   "metadata": {},
   "source": [
    "### VGG ( 4 layer ) network"
   ]
  },
  {
   "cell_type": "markdown",
   "metadata": {},
   "source": [
    "Let's try to train a 4 layer VGG based network with downsampling and see the performance on CIFAR-10."
   ]
  },
  {
   "cell_type": "code",
   "execution_count": null,
   "metadata": {},
   "outputs": [],
   "source": [
    "class VGG_4(nn.Module):\n",
    "    def __init__(self, c_in=3, n_out=10):\n",
    "        super(VGG_4, self).__init__()\n",
    "        \n",
    "        self.n_out = n_out\n",
    "        self.model = nn.Sequential(nn.Conv2d(in_channels=c_in, out_channels=16, padding=(1, 1), kernel_size=(3, 3)),\n",
    "                                   nn.BatchNorm2d(16),\n",
    "                                   nn.ReLU(inplace=True),\n",
    "                                   nn.MaxPool2d(kernel_size=2, stride=2),\n",
    "                                   nn.Conv2d(in_channels=16, out_channels=24, padding=(1, 1), kernel_size=(3, 3)),\n",
    "                                   nn.BatchNorm2d(24),\n",
    "                                   nn.ReLU(inplace=True),\n",
    "                                   nn.MaxPool2d(kernel_size=2, stride=2),\n",
    "                                   nn.Conv2d(in_channels=24, out_channels=32, padding=(1, 1), kernel_size=(3, 3)),\n",
    "                                   nn.BatchNorm2d(32),\n",
    "                                   nn.ReLU(inplace=True),\n",
    "                                   nn.MaxPool2d(kernel_size=2, stride=2),\n",
    "                                   nn.Conv2d(in_channels=32, out_channels=48, padding=(1, 1), kernel_size=(3, 3)),\n",
    "                                   nn.BatchNorm2d(48),\n",
    "                                   nn.ReLU(inplace=True),\n",
    "                                   nn.MaxPool2d(kernel_size=2, stride=2),\n",
    "                                   nn.AdaptiveAvgPool2d(output_size=(1, 1)),\n",
    "                                   nn.Conv2d(in_channels=48, out_channels=self.n_out, kernel_size=(1, 1))\n",
    "                                  )\n",
    "    \n",
    "    def forward(self, x):\n",
    "        x = self.model(x)\n",
    "        x = x.view(-1, self.n_out)\n",
    "        return x"
   ]
  },
  {
   "cell_type": "code",
   "execution_count": null,
   "metadata": {},
   "outputs": [],
   "source": [
    "learn = Learner(dls, VGG_4(), loss_func=CrossEntropyLossFlat(), metrics=accuracy)"
   ]
  },
  {
   "cell_type": "code",
   "execution_count": null,
   "metadata": {},
   "outputs": [],
   "source": [
    "learn.lr_find()"
   ]
  },
  {
   "cell_type": "markdown",
   "metadata": {},
   "source": [
    "![](images/vgg4_lr_find.png)"
   ]
  },
  {
   "cell_type": "markdown",
   "metadata": {},
   "source": [
    "**Let's train it for 30 epochs**"
   ]
  },
  {
   "cell_type": "code",
   "execution_count": null,
   "metadata": {},
   "outputs": [],
   "source": [
    "learn.fit_one_cycle(30, 1e-2)"
   ]
  },
  {
   "cell_type": "markdown",
   "metadata": {},
   "source": [
    "![](images/vgg4_results.png)"
   ]
  },
  {
   "cell_type": "code",
   "execution_count": null,
   "metadata": {},
   "outputs": [],
   "source": [
    "learner.summary()"
   ]
  },
  {
   "cell_type": "markdown",
   "metadata": {},
   "source": [
    "![](images/vgg4_summary.png)"
   ]
  },
  {
   "cell_type": "markdown",
   "metadata": {},
   "source": [
    "### VGG with dilated convolution"
   ]
  },
  {
   "cell_type": "markdown",
   "metadata": {},
   "source": [
    "Idea is to  progressively increase the dilation from 1, 2, 4, 8 to increase the receptive field of the network."
   ]
  },
  {
   "cell_type": "code",
   "execution_count": null,
   "metadata": {},
   "outputs": [],
   "source": [
    "class VGG4_Dilation(nn.Module):\n",
    "    def __init__(self, c_in=3, n_out=10):\n",
    "        super(VGG4_Dilation, self).__init__()\n",
    "          \n",
    "        self.n_out = n_out\n",
    "        self.model = nn.Sequential(nn.Conv2d(in_channels=c_in, out_channels=16, padding=(1, 1), kernel_size=(3, 3), dilation=1),\n",
    "                                  nn.BatchNorm2d(16),\n",
    "                                  nn.ReLU(inplace=True),\n",
    "                                  nn.Conv2d(in_channels=16, out_channels=24, padding=(1, 1), kernel_size=(3, 3), dilation=2),\n",
    "                                  nn.BatchNorm2d(24),\n",
    "                                  nn.ReLU(inplace=True),\n",
    "                                  nn.Conv2d(in_channels=24, out_channels=32, padding=(1, 1), kernel_size=(3, 3), dilation=4),\n",
    "                                  nn.BatchNorm2d(32),\n",
    "                                  nn.ReLU(inplace=True),\n",
    "                                  nn.Conv2d(in_channels=32, out_channels=48, padding=(1, 1), kernel_size=(3, 3), dilation=8),\n",
    "                                  nn.BatchNorm2d(48),\n",
    "                                  nn.ReLU(inplace=True),\n",
    "                                  nn.AdaptiveAvgPool2d(output_size=(1, 1)),\n",
    "                                  nn.Conv2d(in_channels=48, out_channels=self.n_out, kernel_size=(1, 1))\n",
    "                                  )\n",
    "      \n",
    "    def forward(self, x):\n",
    "        x = self.model(x)\n",
    "        x = x.view(-1, self.n_out)\n",
    "        return x"
   ]
  },
  {
   "cell_type": "markdown",
   "metadata": {},
   "source": [
    "**In the head of the model instead of using a `fully connected` layer we are using `AdaptiveAvgPool2d` with `1x1` convolution layer, it is because researchers have observed that using `AdaptiveAvgPool2d` with `1x1` convolution layer decreases the total number of parameters without taking a hit on the performance.**"
   ]
  },
  {
   "cell_type": "code",
   "execution_count": null,
   "metadata": {},
   "outputs": [],
   "source": [
    "learn = Learner(dls, VGG4_Dilation(), loss_func=CrossEntropyLossFlat(), metrics=accuracy)"
   ]
  },
  {
   "cell_type": "code",
   "execution_count": null,
   "metadata": {},
   "outputs": [],
   "source": [
    "learn.lr_find()"
   ]
  },
  {
   "cell_type": "markdown",
   "metadata": {},
   "source": [
    "![](images/vgg4_dilation_lr_find.png)"
   ]
  },
  {
   "cell_type": "code",
   "execution_count": null,
   "metadata": {},
   "outputs": [],
   "source": [
    "learn.fit_one_cycle(30, 1e-2)"
   ]
  },
  {
   "cell_type": "markdown",
   "metadata": {},
   "source": [
    "![](images/vgg4_dilation_results.png)"
   ]
  },
  {
   "cell_type": "code",
   "execution_count": null,
   "metadata": {},
   "outputs": [],
   "source": [
    "learn.summary()"
   ]
  },
  {
   "cell_type": "markdown",
   "metadata": {},
   "source": [
    "![](images/vgg4_dilation_summary.png)"
   ]
  },
  {
   "cell_type": "markdown",
   "metadata": {},
   "source": [
    "**Note: There is no change in number of trainable in params in vanilla vgg 4 layer model with dowsampling and vgg 4 layer model with dilation.**"
   ]
  },
  {
   "cell_type": "markdown",
   "metadata": {},
   "source": [
    "### VGG with large kernels"
   ]
  },
  {
   "cell_type": "markdown",
   "metadata": {},
   "source": [
    "We plan to progressively increase the size of the kernels from `3` to `9`. Increasing the kernel size would enable us to increase the receptive field of the network but we have to make sure that we use adequate padding so as to not shrink our input."
   ]
  },
  {
   "cell_type": "code",
   "execution_count": null,
   "metadata": {},
   "outputs": [],
   "source": [
    "class VGG4_large_filter(nn.Module):\n",
    "    def __init__(self, c_in=3, n_out=10):\n",
    "        super(VGG4_large_filter, self).__init__()\n",
    "          \n",
    "        self.n_out = n_out\n",
    "        self.model = nn.Sequential(nn.Conv2d(in_channels=c_in, out_channels=16, padding=(1, 1), kernel_size=(3, 3)),\n",
    "                                   nn.BatchNorm2d(16),\n",
    "                                   nn.ReLU(inplace=True),\n",
    "                                   nn.Conv2d(in_channels=16, out_channels=24, padding=(2, 2), kernel_size=(5, 5)),\n",
    "                                   nn.BatchNorm2d(24),\n",
    "                                   nn.ReLU(inplace=True),\n",
    "                                   nn.Conv2d(in_channels=24, out_channels=32, padding=(3, 3), kernel_size=(7, 7)),\n",
    "                                   nn.BatchNorm2d(32),\n",
    "                                   nn.ReLU(inplace=True),\n",
    "                                   nn.Conv2d(in_channels=32, out_channels=48, padding=(4, 4), kernel_size=(9, 9)),\n",
    "                                   nn.BatchNorm2d(48),\n",
    "                                   nn.ReLU(inplace=True),\n",
    "                                   nn.AdaptiveAvgPool2d(output_size=(1, 1)),\n",
    "                                   nn.Conv2d(in_channels=48, out_channels=self.n_out, kernel_size=(1, 1))\n",
    "                                  )\n",
    "      \n",
    "    def forward(self, x):\n",
    "        x = self.model(x)\n",
    "        x = x.view(-1, self.n_out)\n",
    "        return x"
   ]
  },
  {
   "cell_type": "code",
   "execution_count": null,
   "metadata": {},
   "outputs": [],
   "source": [
    "learn = Learner(dls, VGG4_large_filter(), loss_func=CrossEntropyLossFlat(), metrics=accuracy)"
   ]
  },
  {
   "cell_type": "code",
   "execution_count": null,
   "metadata": {},
   "outputs": [],
   "source": [
    "learn.lr_find()"
   ]
  },
  {
   "cell_type": "markdown",
   "metadata": {},
   "source": [
    "![](images/vgg4_lk_lr_find.png)"
   ]
  },
  {
   "cell_type": "code",
   "execution_count": null,
   "metadata": {},
   "outputs": [],
   "source": [
    "learn.fit_one_cycle(30, 5e-3)"
   ]
  },
  {
   "cell_type": "markdown",
   "metadata": {},
   "source": [
    "![](images/vgg4_lk_results.png)"
   ]
  },
  {
   "cell_type": "code",
   "execution_count": null,
   "metadata": {},
   "outputs": [],
   "source": [
    "learn.summary()"
   ]
  },
  {
   "cell_type": "markdown",
   "metadata": {},
   "source": [
    "![](images/vgg4_lk_summary.png)"
   ]
  },
  {
   "cell_type": "markdown",
   "metadata": {},
   "source": [
    "**Even though there is an improvement in terms of loss but number of trainable parameters have jumped from 25,474 to 172, 930**"
   ]
  },
  {
   "cell_type": "markdown",
   "metadata": {},
   "source": [
    "## Conclusion"
   ]
  },
  {
   "cell_type": "markdown",
   "metadata": {},
   "source": [
    "- If we look at the performance of 4 layer VGG network with downsampling and compare it with dilated and large kernel size, we observe that their is an increase in the performance. \n",
    "- Using a large kernel will improve performance but at the cost of increased number of trainable parameters.\n",
    "- Using dilation would improve performance without increasing the number of trainable parameters"
   ]
  },
  {
   "cell_type": "markdown",
   "metadata": {},
   "source": [
    "## Next steps"
   ]
  },
  {
   "cell_type": "markdown",
   "metadata": {},
   "source": [
    "- To make it generalizable, we would have to test this idea on other architectures e.g. (resnet18) and see if it increases performance or not.\n",
    "- Also it would be interesting to see what kind of features will our models learn if we use dilation."
   ]
  }
 ],
 "metadata": {
  "kernelspec": {
   "display_name": "Python 3 (ipykernel)",
   "language": "python",
   "name": "python3"
  },
  "language_info": {
   "codemirror_mode": {
    "name": "ipython",
    "version": 3
   },
   "file_extension": ".py",
   "mimetype": "text/x-python",
   "name": "python",
   "nbconvert_exporter": "python",
   "pygments_lexer": "ipython3",
   "version": "3.7.11"
  }
 },
 "nbformat": 4,
 "nbformat_minor": 2
}
