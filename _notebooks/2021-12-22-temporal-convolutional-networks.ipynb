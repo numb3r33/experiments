{
 "cells": [
  {
   "cell_type": "markdown",
   "id": "de2514ee",
   "metadata": {},
   "source": [
    "# Temporal Convolution Networks\n",
    "> What is a Temporal Convolution Network? What are its building blocks? A working implementation using fast.ai and tsai\n",
    "\n",
    "- toc: true \n",
    "- badges: true\n",
    "- comments: true\n",
    "- sticky_rank: 2\n",
    "- author: Abhishek Sharma\n",
    "- image: images/temporal_convolutional_network.png\n",
    "- categories: [deeplearning, math, fastai, tsai, sequencemodelling]"
   ]
  },
  {
   "cell_type": "markdown",
   "id": "4b6027d7",
   "metadata": {},
   "source": [
    "## Objective"
   ]
  },
  {
   "cell_type": "markdown",
   "id": "a49b4b86",
   "metadata": {},
   "source": [
    "- sequence modelling had become synonymous with recurrent networks.\n",
    "- This paper shows that convolutional networks can outperform recurrent networks on some of the tasks.\n",
    "- paper concludes that common association between sequence modelling and recurrent networks should be reconsidered."
   ]
  },
  {
   "cell_type": "markdown",
   "id": "0367d790",
   "metadata": {},
   "source": [
    "### Temporal Convolution Networks?"
   ]
  },
  {
   "cell_type": "markdown",
   "id": "0b4fba7e",
   "metadata": {},
   "source": [
    "- A new general architecture for convolutional sequence prediction.\n",
    "- This new general architecture is referred to as `Temporal Convolutional Networks` abbreviated as `TCN`.\n",
    "- Convolutions in this architecture are `causal` which means that there is no information leakage.\n",
    "- Architecture can take in a sequence of arbitrary length and map it to an output sequence of the same length, just like RNNs. ( But `tcn` achieves this function not through `seq2seq` but simply using `convolutional` layers. )\n",
    "- Also this paper highlights how we could combine deep networks ( with residual structures ) and dilated convolutions could be used to build long term dependencies. ( ability of an model to look back in past to make future predictions )"
   ]
  },
  {
   "cell_type": "markdown",
   "id": "984b1df3",
   "metadata": {},
   "source": [
    "### What is a sequence modelling task?\n",
    "\n",
    "> Taken directly from paper\n",
    "\n",
    "\n",
    "Before defining the network structure, we highlight the nature of the sequence modeling task. Suppose that we are\n",
    "given an input sequence $x_0$, . . . , $x_T$ , and wish to predict some corresponding outputs $y_0$, . . . , $y_T$ at each time. The key constraint is that to predict the output $y_t$ for some time t, we are constrained to only use those inputs that have been previously observed: $x_0$, . . . , $x_t$. \n",
    "\n",
    "Formally, a sequence modeling network is any function \n",
    "f : $X_{T +1}$ → $Y_{T +1}$ that produces the mapping\n",
    "\n",
    "$y_0$, . . . , $y_T$ = f($x_0$, . . . , $x_T$ ) (1)\n",
    "\n",
    "if it satisfies the causal constraint that $y_t$ depends only on $x_0$, . . . , $x_t$ and not on any “future” inputs $x_{t+1}$, . . . , $x_T$. The goal of learning in the sequence modeling setting is to find a network **f** that minimizes some expected loss between the actual outputs and the predictions.\n",
    "\n",
    "L($y_0$, . . . , $y_T$ , f($x_0$, . . . , $x_T$)), where the sequences and outputs are drawn according to some distribution."
   ]
  },
  {
   "cell_type": "markdown",
   "id": "153aa226",
   "metadata": {},
   "source": [
    "### What is a 1D convolution?\n",
    "\n",
    "Before we jump into the paper we must understand what is a `1D convolution` since it is used in the causal convolutional layer in `TCN`\n",
    "\n",
    "- **1D Convolution** takes in a **3D** tensor as input and outputs a **3D** tensor as output. \n",
    "- Shape of the input tensor in `TCN` would have following dimension ( batch_size, input_length, input_size ) and the output tensor has shape ( batch_size, input_length, output_size )\n",
    "- Each layer in `TCN` has same **input** and **output** length so only the third dimension would change."
   ]
  },
  {
   "cell_type": "markdown",
   "id": "46c88806",
   "metadata": {},
   "source": [
    "![](images/1d_conv.pbm)"
   ]
  },
  {
   "cell_type": "markdown",
   "id": "9eea57bf",
   "metadata": {},
   "source": [
    "[Image courtesy](https://www.researchgate.net/figure/Causal-convolution-operation-in-a-1D-convolutional-layer-with-k-3-kernel-size-Input_fig1_337703712)\n"
   ]
  },
  {
   "cell_type": "markdown",
   "id": "1c0f241b",
   "metadata": {},
   "source": [
    "In the above figure we can notice the follwing\n",
    "\n",
    "- to compute a single output we need to look at 3 consecutive values of the input sequence, it is because we are using a kernel of size `3` here.\n",
    "- to maintain that input and output sequences be of the same size we have to pad the input sequence with zeros on both sides.\n",
    "- 1d convolution is a special case of 2d convolution"
   ]
  },
  {
   "cell_type": "markdown",
   "id": "d9c5f042",
   "metadata": {},
   "source": [
    "![](images/1d_conv_special_case_2d.png)"
   ]
  },
  {
   "cell_type": "markdown",
   "id": "c60ed20e",
   "metadata": {},
   "source": [
    "[Image courtesy](https://www.aclweb.org/anthology/D14-1181)"
   ]
  },
  {
   "cell_type": "markdown",
   "id": "ac66a4f5",
   "metadata": {},
   "source": [
    "**How is 1d convolution a special case of 2d convolution?**\n",
    "\n",
    "In both time series and NLP, data is laid out in a similar manner, in the figure above we have embedded the words *I like this movie very much !* into a `7 x 5` embedding matrix and then we use 1d convolution on this 2D matrix.\n",
    "\n",
    "1d convolution is a special case of 2d convolution where `kernel size` of the 1d convolution is it's height. The width of the kernel is defined by the embedding size, which is `5` here and it is fixed. So it means that we can only slide vertically and not horizontally which makes it 1D convolution."
   ]
  },
  {
   "cell_type": "markdown",
   "id": "1d95cc6d",
   "metadata": {},
   "source": [
    "### What is causal convolution?"
   ]
  },
  {
   "cell_type": "markdown",
   "id": "89c2e9f3",
   "metadata": {},
   "source": [
    "- Causality means that an element in the output sequence can only depend on elements that precede it in the input sequence. \n",
    "- In order to ensure that an output tensor has the same length as the input tensor, we need to do zero padding. \n",
    "- If we only pad the left side of the input tensor with zeros, then causal convolution is guaranteed. \n",
    "- $x^{'}_4$ in the figure below is generated by combining $x_2$, $x_3$, $x_4$ which ensures no leakage of information."
   ]
  },
  {
   "cell_type": "markdown",
   "id": "1d5378a0",
   "metadata": {},
   "source": [
    "![](images/1d_conv.pbm)"
   ]
  },
  {
   "cell_type": "markdown",
   "id": "221b7b94",
   "metadata": {},
   "source": [
    "**This operation generates $x^{'}_5$ and $x^{'}_6$ which are extraneous and should be removed before passing the output to the next layer. We have to take care of it in the implementation.**"
   ]
  },
  {
   "cell_type": "markdown",
   "id": "7701bfcf",
   "metadata": {},
   "source": [
    "**How many zeros would be required to make sure that the output would be of same length as input?**\n",
    "`(kernel_size - 1)`"
   ]
  },
  {
   "cell_type": "markdown",
   "id": "7c5fbedf",
   "metadata": {},
   "source": [
    "### How it all fits together?"
   ]
  },
  {
   "cell_type": "markdown",
   "id": "0580661d",
   "metadata": {},
   "source": [
    "TCN has two basic principles:\n",
    "\n",
    "- input and output length of the sequences remain same.\n",
    "- there can be no leakage from the past.\n",
    "\n",
    "To achieve the first point TCN makes use of `1D FCN ( Fully Convolutional Network )` and to achieve the second point TCN makes use of causal convolutions.\n",
    "\n",
    "**Disadvantages of the above architecture**\n",
    "\n",
    "- To model long term dependencies, we need a very deep network or very large convolution kernels, neither of which turned out to be particularly feasible in the experiments.\n"
   ]
  },
  {
   "cell_type": "markdown",
   "id": "08f88127",
   "metadata": {},
   "source": [
    "#### Dilated Convolutions"
   ]
  },
  {
   "cell_type": "markdown",
   "id": "418d8c4d",
   "metadata": {},
   "source": [
    "- A desirable quality of a the model is that the value of a particular entry in the output depends on all previous entries in the input. \n",
    "\n",
    "- This is achieved when the size of the receptive field is equal to the length of the input.\n",
    "\n",
    "- We could expand our receptive field when we stack multiple layers together. In the figure below we can see that by stacking two layers with kernel_size 3, we get a receptive field size of 5."
   ]
  },
  {
   "cell_type": "markdown",
   "id": "38a0f2ce",
   "metadata": {},
   "source": [
    "![](images/stack_conv_layers.png)"
   ]
  },
  {
   "cell_type": "markdown",
   "id": "c7b94ca7",
   "metadata": {},
   "source": [
    "In general, the receptive field r of a 1D convolutional network with `n` layers and kernel_size `k` is\n",
    "\n",
    "$r = 1 + n * ( k - 1 )$\n",
    "\n",
    "\n",
    "To know how many layers are needed for full coverage, we can set the receptive field size to input_length `l` and solve for the number of layers `n` (non-integer values need to be rounded):\n",
    "\n",
    "$\\lceil\\frac{(l-1)}{(k-1)}\\rceil$\n",
    "\n",
    "\n",
    "This means that, with a fixed kernel_size, the number of layers required for complete coverage would be linear in input length. This will cause the network to become very deep and very fast, resulting in models with a large number of parameters that take longer to train."
   ]
  },
  {
   "cell_type": "markdown",
   "id": "90460bd9",
   "metadata": {},
   "source": [
    "#### How could we solve this issue?\n",
    "\n",
    "One way to increase the size of the receptive field while keeping the number of layers relatively small is to introduce the concept of **dilation**.\n",
    "\n",
    "Dilation in the context of convolutional layers refers to the distance between elements of the input sequence that are used to compute one entry of the output sequence. Therefore, a traditional convolutional layer can be viewed as a  layer dilated by 1, because the input elements involved in calculating output value are adjacent. \n",
    "\n",
    "The image below shows an example of how the receptive field grows when we introduce dilation. The right side image uses a dilation rate `r` **1** in the first layer with kernel_size **3** which is how a traditional conv layer would work although in the next layer we use `r=2` which makes sure that we combine input elements that are 2 elements apart when producing output for the next layer and so on."
   ]
  },
  {
   "cell_type": "markdown",
   "id": "f643225a",
   "metadata": {},
   "source": [
    "![](images/dilation.pbm)"
   ]
  },
  {
   "cell_type": "markdown",
   "id": "ebf66df9",
   "metadata": {},
   "source": [
    "To overcome the problem of number of layers required for covering the entire input length we must progressively increase the `dilation rate` over multiple layers.\n",
    "\n",
    "This problem can be solved by exponentially increasing the value of `d` as we move up in the layer. To do this, we choose a constant dilation_base integer `b` that will allow us to calculate the dilation `d` for a particular layer based on the number of layers i under it, i.e. $d = b^i$.\n",
    "\n",
    "The figure below shows a network with an input_length of 10, a kernel_size of 3, and a dilation_base of 2, which would result in a complete coverage of the 3 dilated convolutional layers."
   ]
  },
  {
   "cell_type": "markdown",
   "id": "45d0f9e2",
   "metadata": {},
   "source": [
    "![](images/dilation_coverage.png)"
   ]
  },
  {
   "cell_type": "markdown",
   "id": "52fbd340",
   "metadata": {},
   "source": [
    "Here we can see that the all input values are used to produce the last value in the output layer. With the above mentioned setup we could have an input of length `15` while maintaining the full coverage.\n",
    "\n",
    "**How did we calculate that the receptive width is 15?**\n",
    "\n",
    "- When a layer is added to the architecture the receptive field is increased by $d*(k-1)$\n",
    "- So if we have n layers with kernel_size k and dilation base rate as b then receptive width is calculated as\n",
    "\n",
    "$w=1+(k-1)\\frac{b^n-1}{b-1}$\n",
    "\n",
    "but depending on values of `b` and `k` the architecture could have many holes in it.\n",
    "\n",
    "**What does that mean?**\n",
    "\n",
    "![](images/dilation_with_holes.png)"
   ]
  },
  {
   "cell_type": "markdown",
   "id": "21893738",
   "metadata": {},
   "source": [
    "Here we can see not all **inputs** are used to compute the last value of the output, even though `w` is greater than the input size. To fix this we would have to either increase the kernel size or decrease the dilation rate from `3` to `2`. In general we must ensure that kernel_size is atleast equal to dilation rate to avoid such cases."
   ]
  },
  {
   "cell_type": "markdown",
   "id": "0f5ee169",
   "metadata": {},
   "source": [
    "#### How many layers would be required for full coverage?\n",
    "\n",
    "Given a kernel size k, a dilation base b where k ≥ b, and an input length l, in order to achieve full coverage following condition must be satisfied\n",
    "\n",
    "$1+(k-1)\\frac{b^n-1}{b-1}\\geq l$, then \n",
    "\n",
    "$n=\\lceil\\log_b(\\frac{(l-1)*(b-1)}{k-1}+1)\\rceil$\n",
    "\n",
    "Now number of layers is lograthmic in input layer length `l` which is what we wanted. This is a significant improvement that can be achieved without sacrificing receptive field coverage.\n",
    "\n",
    "Now, the only thing that needs to be specified is the number of zero-padded items required for each layer. Assuming that the dilation expansion base is b, the kernel size is k, and there are i layers below the current layer, the number p of zero-padding items required by the current layer is calculated as follows:\n",
    "\n",
    "$p=b^i*(k-1)$"
   ]
  },
  {
   "cell_type": "markdown",
   "id": "c976c552",
   "metadata": {},
   "source": [
    "### Temporal Residual Block\n",
    "\n",
    "Now let's discuss the basic building blocks of `TCN` network.\n",
    "\n",
    "![](images/tcn_residual_block.png)"
   ]
  },
  {
   "cell_type": "markdown",
   "id": "cf741674",
   "metadata": {},
   "source": [
    "- Residual links have proven to be an effective way to train deep networks, which allow the network to pass information in a cross-layer manner. \n",
    "- This paper constructs a residual block to replace one layer of convolution. As shown in the figure above, a residual block contains two layers of convolution and nonlinear mapping, and WeightNorm and Dropout are added to each layer to regularize the network."
   ]
  },
  {
   "cell_type": "markdown",
   "id": "02e7b1d4",
   "metadata": {},
   "source": [
    "![](images/causal_tcn.png)"
   ]
  },
  {
   "cell_type": "markdown",
   "id": "4f401291",
   "metadata": {},
   "source": [
    "- Each hidden layer has the same length as the input layer, and is padded with zeros to ensure subsequent layers have the same length.\n",
    "\n",
    "- For the output at time t, the causal convolution (convolution with causal constraints) uses the input at time t and the previous layer at an earlier time (see the blue line connection at the bottom of the figure above).\n",
    "\n",
    "- Causal convolution is not a new idea, but the paper incorporates very deep networks to allow for long-term efficient histories."
   ]
  },
  {
   "cell_type": "markdown",
   "id": "6ce50bcf",
   "metadata": {},
   "source": [
    "### Residual Link"
   ]
  },
  {
   "cell_type": "markdown",
   "id": "b2ea661c",
   "metadata": {},
   "source": [
    "![](images/residual_link.png)"
   ]
  },
  {
   "cell_type": "markdown",
   "id": "770d9e56",
   "metadata": {},
   "source": [
    "- Residual blocks (originally from ResNet) have repeatedly shown to benefit very deep networks.\n",
    "- Since the receptive field of a TCN depends on the network depth `n` as well as the convolution kernel size `k` and dilation factor `d`, it becomes very important to stabilize deeper and larger TCNs.\n",
    "- Predictions may depend on long historical values and high-dimensional input sequences. e.g An input sequence of size $2^{12}$ may require a network of up to 12 layers.\n",
    "- In standard ResNet, the input is directly added to the output of the residual function, while in TCN the input and output can have different widths. To account for the difference in input-output width, an additional `1x1` convolution is used to ensure that element-wise addition receives tensors of the same shape."
   ]
  },
  {
   "cell_type": "markdown",
   "id": "a9ed505a",
   "metadata": {},
   "source": [
    "![](images/res_blk.png)"
   ]
  },
  {
   "cell_type": "markdown",
   "id": "9596c811",
   "metadata": {},
   "source": [
    "### Conclusion"
   ]
  },
  {
   "cell_type": "markdown",
   "id": "282fe322",
   "metadata": {},
   "source": [
    "- The innovation in the TCN model is to sort out how to use causal and dilated convolutions to solve the sequence modelling task. \n",
    "- Causal and Dilated convolutions have already been proposed earlier but this paper highlights how they could be combined together for sequence modelling tasks"
   ]
  },
  {
   "cell_type": "markdown",
   "id": "225f0761",
   "metadata": {},
   "source": [
    "#### Advantages\n",
    "\n",
    "- Parallelism. When given a sentence, TCN can process the sentence in parallel without the need for sequential processing like RNN.\n",
    "\n",
    "- Flexible receptive field. The size of the receptive field of TCN is determined by the number of layers, the size of the convolution kernel, and the expansion coefficient. It can be flexibly customized according to different characteristics of different tasks.\n",
    "\n",
    "- Stable gradient. RNN often has the problems of vanishing gradients and gradient explosion, which are mainly caused by sharing parameters in different time periods. Like traditional convolutional neural networks, TCN does not have the problem of gradient disappearance and explosion.\n",
    "\n",
    "- Lower memory requirements. When RNN is used, it needs to save the information of each step, which will occupy a lot of memory. The convolution kernel of TCN is shared in one layer, and hence lower memory usage."
   ]
  },
  {
   "cell_type": "markdown",
   "id": "c5963612",
   "metadata": {},
   "source": [
    "#### Disadvantages\n",
    "\n",
    "- TCN may not be so adaptable in transfer learning. This is because the amount of historical information required for model predictions may be different in different domains. Therefore, when migrating a model from a problem that requires less memory information to a problem that requires longer memory, TCN may perform poorly because its receptive field is not large enough.\n",
    "\n",
    "- The TCN described in the paper is also a one-way structure. In tasks such as speech recognition and speech synthesis, the pure one-way structure is quite useful. However, most of the texts use a bidirectional structure. Of course, it is easy to expand the TCN into a bidirectional structure. Instead of using causal convolution, the traditional convolution structure can be used.\n",
    "\n",
    "- TCN is a variant of convolutional neural network after all. Although the receptive field can be expanded by using dilated convolution, it is still limited. Compared with Transformer, it is still poor in capturing relevant information of any length. The application of TCN to text remains to be tested."
   ]
  },
  {
   "cell_type": "markdown",
   "id": "c8305d25",
   "metadata": {},
   "source": [
    "### Tips for implementation\n",
    "\n",
    "Next we would highlight things to keep in mind if you plan to implement the paper\n",
    "\n",
    "- After the convolution, the size of the output data after the convolution is greater than the size of the input data\n",
    "- This is caused owing to padding both sides, so we chomp off extra padded 0s from right side to get the desired data values.\n"
   ]
  },
  {
   "cell_type": "markdown",
   "id": "5dc3e5d2",
   "metadata": {},
   "source": [
    "We have taken this (https://github.com/locuslab/TCN/blob/2221de3323/TCN/tcn.py) implementation of TCN and implemented in fast.ai and tsai to demonstrate how TCN could be used for sequence modelling."
   ]
  },
  {
   "cell_type": "markdown",
   "id": "2f973c71",
   "metadata": {},
   "source": [
    "#### How to prepare dataset?"
   ]
  },
  {
   "cell_type": "code",
   "execution_count": null,
   "id": "dd9a03bf",
   "metadata": {},
   "outputs": [],
   "source": [
    "from tsai.all import *\n",
    "computer_setup()"
   ]
  },
  {
   "cell_type": "markdown",
   "id": "7280ea3f",
   "metadata": {},
   "source": [
    "![](images/setup_info.png)"
   ]
  },
  {
   "cell_type": "markdown",
   "id": "134a2125",
   "metadata": {},
   "source": [
    "**We are going to select appliances energy dataset recently released by Monash, UEA & UCR Time Series Extrinsic Regression Repository (2020)**"
   ]
  },
  {
   "cell_type": "code",
   "execution_count": null,
   "id": "43f5e163",
   "metadata": {},
   "outputs": [],
   "source": [
    "dsid         = 'AppliancesEnergy' \n",
    "X, y, splits = get_regression_data(dsid, split_data=False)\n",
    "X.shape, y.shape, y[:10]"
   ]
  },
  {
   "cell_type": "markdown",
   "id": "187c6777",
   "metadata": {},
   "source": [
    "![](images/setup_info.png)"
   ]
  },
  {
   "cell_type": "code",
   "execution_count": null,
   "id": "39c7f461",
   "metadata": {},
   "outputs": [],
   "source": [
    "check_data(X, y, splits)"
   ]
  },
  {
   "cell_type": "markdown",
   "id": "8e396930",
   "metadata": {},
   "source": [
    "![](images/load_data.png)"
   ]
  },
  {
   "cell_type": "code",
   "execution_count": null,
   "id": "04f04fa6",
   "metadata": {},
   "outputs": [],
   "source": [
    "tfms  = [None, [TSRegression()]]\n",
    "batch_tfms = TSStandardize(by_sample=True, by_var=True)\n",
    "dls = get_ts_dls(X, y, splits=splits, tfms=tfms, batch_tfms=batch_tfms, bs=128)\n",
    "dls.one_batch()"
   ]
  },
  {
   "cell_type": "markdown",
   "id": "9287cbef",
   "metadata": {},
   "source": [
    "![](images/data_split.png)"
   ]
  },
  {
   "cell_type": "code",
   "execution_count": null,
   "id": "5a537e5f",
   "metadata": {},
   "outputs": [],
   "source": [
    "dls.show_batch()"
   ]
  },
  {
   "cell_type": "markdown",
   "id": "bf9774f7",
   "metadata": {},
   "source": [
    "![](images/data_loader.png)"
   ]
  },
  {
   "cell_type": "markdown",
   "id": "bbb51ff7",
   "metadata": {},
   "source": [
    "#### Model implementation"
   ]
  },
  {
   "cell_type": "code",
   "execution_count": null,
   "id": "8195c2c4",
   "metadata": {},
   "outputs": [],
   "source": [
    "from fastai.torch_basics import *\n",
    "from fastai.tabular.core import *\n",
    "\n",
    "from torch.nn.utils import weight_norm"
   ]
  },
  {
   "cell_type": "code",
   "execution_count": null,
   "id": "1f43927a",
   "metadata": {},
   "outputs": [],
   "source": [
    "class Chomp1d(Module):\n",
    "    def __init__(self, chomp_size):\n",
    "        store_attr()\n",
    "    \n",
    "    def forward(self, x):\n",
    "        return x[:, :, :-self.chomp_size].contiguous()\n",
    "\n",
    "    \n",
    "def get_conv_block(n_inputs, n_outputs, kernel_size, stride, padding, dilation, dropout):\n",
    "    conv  = weight_norm(nn.Conv1d(n_inputs, \n",
    "                                  n_outputs, \n",
    "                                  kernel_size,\n",
    "                                  stride=stride, \n",
    "                                  padding=padding,\n",
    "                                  dilation=dilation\n",
    "                                  ))\n",
    "    chomp = Chomp1d(padding)\n",
    "    relu  = nn.ReLU()\n",
    "    drop  = nn.Dropout(dropout)\n",
    "\n",
    "    return nn.Sequential(*(conv, chomp,\n",
    "                           relu, drop\n",
    "                        ))\n",
    "    \n",
    "class TemporalBlock(Module):\n",
    "    def __init__(self, n_inputs, n_outputs, kernel_size, stride, dilation, padding, dropout=0.5):\n",
    "        store_attr()\n",
    "        \n",
    "        self.in_conv_blk = get_conv_block(n_inputs,\n",
    "                                          n_outputs,\n",
    "                                          kernel_size,\n",
    "                                          stride,\n",
    "                                          padding,\n",
    "                                          dilation,\n",
    "                                          dropout\n",
    "                                         )\n",
    "        \n",
    "        self.out_conv_blk = get_conv_block(n_outputs,\n",
    "                                           n_outputs,\n",
    "                                           kernel_size,\n",
    "                                           stride,\n",
    "                                           padding,\n",
    "                                           dilation,\n",
    "                                           dropout\n",
    "                                          )\n",
    "        \n",
    "        self.net             = nn.Sequential(*(self.in_conv_blk, self.out_conv_blk))\n",
    "        self.downsample_conv = nn.Conv1d(n_inputs, n_outputs, kernel_size=1) if n_inputs != n_outputs else None\n",
    "        self.relu            = nn.ReLU()\n",
    "        self.init_weights()\n",
    "        \n",
    "    def init_weights(self):\n",
    "        # 0 index represents the convolutional layer\n",
    "        self.in_conv_blk[0].weight.data.normal_(0, 0.01)\n",
    "        self.out_conv_blk[0].weight.data.normal_(0, 0.01)\n",
    "        if self.downsample_conv is not None:\n",
    "            self.downsample_conv.weight.data.normal_(0, 0.01)\n",
    "\n",
    "    def forward(self, x):\n",
    "        out = self.net(x)\n",
    "        res = x if self.downsample_conv is None else self.downsample_conv(x)\n",
    "        return self.relu(out + res)\n",
    "    \n",
    "class TemporalConvNet(Module):\n",
    "    def __init__(self, num_inputs, num_channels, kernel_size=2, dropout=0.2):\n",
    "        layers     = []\n",
    "        num_levels = len(num_channels)\n",
    "        \n",
    "        for i in range(num_levels):\n",
    "            dilation_size = 2 ** i\n",
    "            in_channels   = num_inputs if i == 0 else num_channels[i-1]\n",
    "            out_channels  = num_channels[i]\n",
    "            \n",
    "            layers       += [TemporalBlock(in_channels, \n",
    "                                           out_channels, \n",
    "                                           kernel_size, \n",
    "                                           stride=1, \n",
    "                                           dilation=dilation_size,\n",
    "                                           padding=(kernel_size-1) * dilation_size, \n",
    "                                           dropout=dropout\n",
    "                                          )\n",
    "                            ]\n",
    "\n",
    "        self.network = nn.Sequential(*layers)\n",
    "\n",
    "    def forward(self, x):\n",
    "        return self.network(x)\n",
    "    \n",
    "class TCN(Module):\n",
    "    def __init__(self, input_size, output_size, num_channels, kernel_size, dropout):\n",
    "        self.tcn    = TemporalConvNet(input_size, num_channels, kernel_size=kernel_size, dropout=dropout)\n",
    "        self.linear = nn.Linear(num_channels[-1], output_size)\n",
    "        self.init_weights()\n",
    "\n",
    "    def init_weights(self):\n",
    "        self.linear.weight.data.normal_(0, 0.01)\n",
    "\n",
    "    def forward(self, x):\n",
    "        y1 = self.tcn(x)\n",
    "        return self.linear(y1[:, :, -1])"
   ]
  },
  {
   "cell_type": "code",
   "execution_count": null,
   "id": "3f4ea547",
   "metadata": {},
   "outputs": [],
   "source": [
    "model = TCN(input_size=24,\n",
    "            output_size=1,\n",
    "            num_channels=[24, 32, 64],\n",
    "            kernel_size=2,\n",
    "            dropout=0.2\n",
    "           )\n",
    "\n",
    "learn = Learner(dls, model, metrics=[mae, rmse], cbs=ShowGraph())\n",
    "learn.lr_find()"
   ]
  },
  {
   "cell_type": "markdown",
   "id": "f5b3b752",
   "metadata": {},
   "source": [
    "![](images/tcn_lr_finder.png)"
   ]
  },
  {
   "cell_type": "code",
   "execution_count": null,
   "id": "cf4ec573",
   "metadata": {},
   "outputs": [],
   "source": [
    "model    = TCN(input_size=24,\n",
    "               output_size=1,\n",
    "               num_channels=[24, 32, 64],\n",
    "               kernel_size=2,\n",
    "               dropout=0.2\n",
    "              )\n",
    "\n",
    "learn = Learner(dls, model, metrics=[mae, rmse], cbs=ShowGraph())\n",
    "learn.fit_one_cycle(100, 8e-4)"
   ]
  },
  {
   "cell_type": "markdown",
   "id": "3f438640",
   "metadata": {},
   "source": [
    "![](images/tcn_loss_pbar.png)\n",
    "![](images/tcn_loss_pbar1.png)\n",
    "![](images/tcn_loss_pbar2.png)\n",
    "![](images/tcn_train_valid_losses.png)"
   ]
  },
  {
   "cell_type": "markdown",
   "id": "1648b88d",
   "metadata": {},
   "source": [
    "### References"
   ]
  },
  {
   "cell_type": "markdown",
   "id": "2783fb8e",
   "metadata": {},
   "source": [
    "- [An Empirical Evaluation of Generic Convolutional and Recurrent Networks\n",
    "for Sequence Modeling](https://arxiv.org/pdf/1803.01271.pdf)\n",
    "- [Fast.AI](https://www.fast.ai/)\n",
    "- [tsai](https://github.com/timeseriesAI/tsai)"
   ]
  }
 ],
 "metadata": {
  "kernelspec": {
   "display_name": "experiments",
   "language": "python",
   "name": "experiments"
  },
  "language_info": {
   "codemirror_mode": {
    "name": "ipython",
    "version": 3
   },
   "file_extension": ".py",
   "mimetype": "text/x-python",
   "name": "python",
   "nbconvert_exporter": "python",
   "pygments_lexer": "ipython3",
   "version": "3.7.11"
  }
 },
 "nbformat": 4,
 "nbformat_minor": 5
}
