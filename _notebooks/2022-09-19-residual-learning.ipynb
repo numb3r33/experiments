{
 "cells": [
  {
   "cell_type": "markdown",
   "id": "eacd5ab6-fffd-4a62-bc54-4db4ca7f83e8",
   "metadata": {},
   "source": [
    "# Residual Learning\n",
    "> Understanding the role of residuals in model training.\n",
    "\n",
    "- toc: true \n",
    "- badges: true\n",
    "- comments: true\n",
    "- sticky_rank: 1\n",
    "- author: Abhishek Sharma\n",
    "- image: images/res_learning.png\n",
    "- categories: [deeplearning, math]"
   ]
  },
  {
   "cell_type": "markdown",
   "id": "6843af29-3363-44bd-a68f-15fca6622c57",
   "metadata": {},
   "source": [
    "## What is a residual?"
   ]
  },
  {
   "cell_type": "markdown",
   "id": "e7ae36f7-b2a1-422b-9ad4-f8f2fd6c4fb2",
   "metadata": {},
   "source": [
    "Residual is the difference between actual and estimated value."
   ]
  },
  {
   "cell_type": "markdown",
   "id": "99a324b1-76db-4776-866b-debb0c119195",
   "metadata": {},
   "source": [
    "## What is residual learning?"
   ]
  },
  {
   "cell_type": "markdown",
   "id": "97f831cb-b2ad-4e6d-a3ae-ace66ccc1262",
   "metadata": {},
   "source": [
    "In the context of ensemble learning, a base model is used to fit the residuals to make the ensemble model more accurate. In deep learning, various architectures use a block/layer to fit the residual to improve the performance of the DNN."
   ]
  },
  {
   "cell_type": "markdown",
   "id": "902183d5-78ec-4549-9a0d-35fcd10ea684",
   "metadata": {},
   "source": [
    "## How does Gradient Boosting Machines use residuals?"
   ]
  },
  {
   "cell_type": "markdown",
   "id": "863523a9",
   "metadata": {},
   "source": [
    "We will try to deconstruct how GBM works using DecisionTrees on a regression task."
   ]
  },
  {
   "cell_type": "code",
   "execution_count": 2,
   "id": "f874b858-1cff-42d0-b2ba-c7f1e3c8bcc9",
   "metadata": {},
   "outputs": [],
   "source": [
    "from sklearn import datasets\n",
    "from sklearn.model_selection import train_test_split\n",
    "\n",
    "import matplotlib.pyplot as plt"
   ]
  },
  {
   "cell_type": "code",
   "execution_count": 3,
   "id": "cb1c13d8-122f-4293-b719-e3177490c3e4",
   "metadata": {},
   "outputs": [],
   "source": [
    "X, y = datasets.make_regression(n_samples=1000, random_state=41)\n",
    "Xtr, Xva, ytr, yva = train_test_split(X, y, test_size=0.2, random_state=41)"
   ]
  },
  {
   "cell_type": "code",
   "execution_count": 4,
   "id": "44665966-2c6e-4411-93e6-139a8e6892e2",
   "metadata": {},
   "outputs": [],
   "source": [
    "from sklearn.tree import DecisionTreeRegressor"
   ]
  },
  {
   "cell_type": "code",
   "execution_count": 5,
   "id": "82826198-7c95-466a-a9d6-12ac76708999",
   "metadata": {},
   "outputs": [],
   "source": [
    "tree_reg1 = DecisionTreeRegressor(max_depth=2, random_state=41)\n",
    "tree_reg1.fit(Xtr, ytr)\n",
    "\n",
    "y2 = ytr - tree_reg1.predict(Xtr)\n",
    "\n",
    "tree_reg2 = DecisionTreeRegressor(max_depth=2, random_state=41)\n",
    "tree_reg2.fit(Xtr, y2)\n",
    "\n",
    "y3 = y2 - tree_reg2.predict(Xtr)\n",
    "\n",
    "tree_reg3 = DecisionTreeRegressor(max_depth=2, random_state=41)\n",
    "tree_reg3.fit(Xtr, y3)\n",
    "\n",
    "y_pred = sum(tree.predict(Xva) for tree in (tree_reg1, tree_reg2, tree_reg3))"
   ]
  },
  {
   "cell_type": "markdown",
   "id": "5edaed6b-5696-49c3-bf2c-7ed58432bf2e",
   "metadata": {},
   "source": [
    "### Gradient Boosting"
   ]
  },
  {
   "cell_type": "markdown",
   "id": "12b40ab3-60a6-408f-a3a9-8b2001640c6a",
   "metadata": {},
   "source": [
    "**How does residuals play a part in Gradient Boosting Learning?**\n",
    "\n",
    "- Train a base learner `tree_reg1` to fit data (`X`) and labels (`y`)\n",
    "- Train a base learner `tree_reg2` that fits on data (`X`) and **residuals** between the `label` and predicted value of base learner `tree_reg1`. Essentially, we are using a base learner to learn the **residuals**.\n",
    "- Finally the result of all the base learners are added to make the final prediction."
   ]
  },
  {
   "cell_type": "markdown",
   "id": "784acc75-5712-45ed-94c5-a0770b311cfd",
   "metadata": {},
   "source": [
    "The above code is equivalent to calling the GradientBoostingRegressor with `3` base learners."
   ]
  },
  {
   "cell_type": "code",
   "execution_count": 6,
   "id": "4aba6770-8073-449b-aa97-b477f84d1b49",
   "metadata": {},
   "outputs": [],
   "source": [
    "from sklearn.ensemble import GradientBoostingRegressor\n",
    "\n",
    "gbrt = GradientBoostingRegressor(max_depth=2, n_estimators=3, learning_rate=1.0, random_state=41)\n",
    "gbrt.fit(Xtr, ytr)\n",
    "\n",
    "gb_preds = gbrt.predict(Xva)"
   ]
  },
  {
   "cell_type": "code",
   "execution_count": 7,
   "id": "7dfba862-6bde-4331-8985-dec539fa4e3e",
   "metadata": {},
   "outputs": [
    {
     "data": {
      "text/plain": [
       "-4.554578936222242e-12"
      ]
     },
     "execution_count": 7,
     "metadata": {},
     "output_type": "execute_result"
    }
   ],
   "source": [
    "sum(y_pred - gb_preds)"
   ]
  },
  {
   "cell_type": "markdown",
   "id": "4d864c34-c09e-4b31-a381-260ccb798217",
   "metadata": {},
   "source": [
    "## Role of residual learning in training deep networks?"
   ]
  },
  {
   "cell_type": "markdown",
   "id": "90a23ac5",
   "metadata": {},
   "source": [
    "### Why do we need ResNets?"
   ]
  },
  {
   "cell_type": "markdown",
   "id": "2e442258",
   "metadata": {},
   "source": [
    "Research to develop better architectures which perform better has led researchers to go deeper with a notion that to a certain extent going deeper would yield better performance.\n",
    "\n",
    "But we realized that going deeper brings problems of its own, model become difficult to train. In 2014, VGG had only 19 layers while in 2015 ResNet had 152 layers and a far better performance, one can say at an initial glance that ResNet wins because it has more number of layers. Ofcourse that is the case but it also introduces a trick called \"residual learning\" that helps achieve this performance.\n",
    "\n",
    "CNN models have evolved over time from LeNet-5 ( 5 layers ) and AlexNet ( 8 layers ) to VGGNet (16-19) and later GoogleNet ( 22 layers ). According to experimental results of VGGNet, depth of the network plays a crucial role in model's performance.\n",
    "\n",
    "Please find below tables extracted from [VGG paper](https://arxiv.org/pdf/1409.1556.pdf) that showcases that deeper we go better the effect."
   ]
  },
  {
   "attachments": {},
   "cell_type": "markdown",
   "id": "c4967433",
   "metadata": {},
   "source": [
    "![](images/res_learning_tbl.png)"
   ]
  },
  {
   "attachments": {},
   "cell_type": "markdown",
   "id": "c6c06658",
   "metadata": {},
   "source": [
    "![](images/res_learning_conv_perf.png)"
   ]
  },
  {
   "cell_type": "markdown",
   "id": "44abbb71",
   "metadata": {},
   "source": [
    "### Are deeper networks really better?"
   ]
  },
  {
   "cell_type": "markdown",
   "id": "a57be607",
   "metadata": {},
   "source": [
    "Later in various experiments it was found out that model performance increases with depth upto a certain extent further which it often decreases. What could be the reasons for that could it be following\n",
    "\n",
    "- Overfitting.\n",
    "- Vanishing/Exploding Gradients."
   ]
  },
  {
   "cell_type": "markdown",
   "id": "9bc2b72c",
   "metadata": {},
   "source": [
    "#### Overfitting"
   ]
  },
  {
   "attachments": {},
   "cell_type": "markdown",
   "id": "61d0dae9",
   "metadata": {},
   "source": [
    "In the [Resnet](https://arxiv.org/pdf/1512.03385.pdf) paper the authors tried this following experiment"
   ]
  },
  {
   "attachments": {},
   "cell_type": "markdown",
   "id": "b17f0b1c",
   "metadata": {},
   "source": [
    "![](images/res_learning_overfit.png)"
   ]
  },
  {
   "cell_type": "markdown",
   "id": "47c34573",
   "metadata": {},
   "source": [
    "The y-axis on the left figure represents **training error** and the y-axis on the right figure represents **test error** and x-axes on the both the figures represent the number of iterations.\n",
    "\n",
    "We can see that the 20-layer network trained for a large number of iterations yields in low training error but corresponding test error is relatively large. This is a case of **over-fitting** ( we are performing better on training compared to test dataset ).\n",
    "\n",
    "In addition to this the authors also trained a network with 56-layers and found out that error of this network in both training and testing is large compared to the 20-layer network. Thus performance degradation has nothing to do with `overfitting`."
   ]
  },
  {
   "cell_type": "markdown",
   "id": "064152da",
   "metadata": {},
   "source": [
    "#### Vanishing/Exploding Gradients"
   ]
  },
  {
   "cell_type": "markdown",
   "id": "926bcdeb",
   "metadata": {},
   "source": [
    "Vanishing/Exploding gradients make the model difficult to train but there are already some techniques like Batch Normalization to alleviate this problem.\n",
    "\n",
    "Let's try to understand the example presented by author in the paper\n",
    "\n",
    "Suppose we have a following network which can perform good on training and test datasets."
   ]
  },
  {
   "cell_type": "markdown",
   "id": "4d19a8bf",
   "metadata": {},
   "source": [
    "![](images/plain_network.drawio.png)"
   ]
  },
  {
   "cell_type": "markdown",
   "id": "5345d86a",
   "metadata": {},
   "source": [
    "Then we augment the architecture in the following way to add more layers. The parameters of the first 4 layers are copied from the above network and these parameters remain unchanged during training."
   ]
  },
  {
   "cell_type": "markdown",
   "id": "2bf3707d",
   "metadata": {},
   "source": [
    "![](images/plain_network_more_layers.drawio.png)"
   ]
  },
  {
   "cell_type": "markdown",
   "id": "f523aa2a",
   "metadata": {},
   "source": [
    "In theory the performance of the second network should be better than first network since we have more layers which could extract useful features and suppose we find out that the second network performs worse, then one explanation provided by the authors is that since we have copied the parameters of first 4 layers in the second network and if they are enough to meet the performance requirements then the newly added layers are a bit redundant. To maintain the level of performance, the newly added functions has to serve as an **identity mapping** that is the net effect of the purple layers should be `f(x) = x`, in this way we would not experience model degradation.\n",
    "\n",
    "This is what the authors observed that the non-linear expression of the traditional multi-layer network structure has difficulty expressing the identity mapping which leads to model degradation."
   ]
  },
  {
   "cell_type": "markdown",
   "id": "ab33487f",
   "metadata": {},
   "source": [
    "### How do we tackle model degradation then?"
   ]
  },
  {
   "cell_type": "markdown",
   "id": "aa0f38dc",
   "metadata": {},
   "source": [
    "Assuming that a relatively shallow network can already achieve good results, then even if the network is piled up with more layers the effect of the model should not deteriorate.\n",
    "\n",
    "In reality, however this is the problem, `doing nothing` happens to be a very challenging task.\n",
    "\n",
    "Presence of non-linear activation functions makes the input-to-output process almost irreversible. Non-linearity gives the model endless possibilities but it also makes the network forget the original intention.\n",
    "\n",
    "The quality of `not forgetting the original intention/doing nothing` is managed by identity mapping."
   ]
  },
  {
   "cell_type": "markdown",
   "id": "c6116491",
   "metadata": {},
   "source": [
    "### Residual Block"
   ]
  },
  {
   "attachments": {},
   "cell_type": "markdown",
   "id": "445be570",
   "metadata": {},
   "source": [
    "![](images/res_learning_res_block.png)"
   ]
  },
  {
   "cell_type": "markdown",
   "id": "4525df12",
   "metadata": {},
   "source": [
    "In fact, it is difficult for existing neural networks to fit the underlying identity mapping function H(x) = x.But if the network is designed such that H(x) = F(x) + x, then the identity map could be used as part of the network.\n",
    "\n",
    "The problem can be transformed into learning a residual function F(x) = H(x) - x. As long as F(x)=0, an identity map H(x) = x is formed. The loop in the figure is called a shortcut connection. By jumping before the activation function, the output of the previous layer or layers is added to the output calculated by this layer, and the result of summation is input to the next activation function as the output of this layer.\n",
    "\n",
    "The idea of the skip connection is to expressed the output as a linear superposition of a nonlinear transformation of the input and the input. There is no new formula, no new theory, but a new expression."
   ]
  },
  {
   "cell_type": "markdown",
   "id": "2350678b",
   "metadata": {},
   "source": [
    "#### Why is residual learning relatively easier?"
   ]
  },
  {
   "attachments": {},
   "cell_type": "markdown",
   "id": "cd635fbf",
   "metadata": {},
   "source": [
    "Intuitively, residual learning requires less learning, because residuals are generally relatively small and the learning difficulty is less. However, we can analyze this problem from a mathematical point of view. First, the residual unit can be expressed as:\n",
    "\n",
    "![](images/res_learning_eq_1.png)"
   ]
  },
  {
   "attachments": {},
   "cell_type": "markdown",
   "id": "6a29f956",
   "metadata": {},
   "source": [
    "$F(x, \\{W_i\\})$ is the goal of our learning, that is, the residual of the output and input i.e. $y-x$. If we further expand\n",
    "\n",
    "![](images/res_learning_eq_2.png)"
   ]
  },
  {
   "cell_type": "markdown",
   "id": "a87b0cbb",
   "metadata": {},
   "source": [
    "$\\sigma$ refers to Relu, while $W_1$, $W_2$ refer to two layers of weights. When $F(x,\\{W_i\\})$ learns to have a `0` value then $y = x$, this is what we call identity mapping. \n",
    "\n",
    "Why can't we have $y=f(x,\\{W_i\\})$ instead and no skip connections?\n",
    "\n",
    "- Because $f(x,\\{W_i\\})$ has a ReLU activation function in the middle so if `x <= 0` then `y = 0` which would violate the identity mapping principle."
   ]
  },
  {
   "cell_type": "markdown",
   "id": "c7461148",
   "metadata": {},
   "source": [
    "### Experiments"
   ]
  },
  {
   "attachments": {},
   "cell_type": "markdown",
   "id": "32f49a0e",
   "metadata": {},
   "source": [
    "![](images/res_learning_experiments.png)"
   ]
  },
  {
   "cell_type": "markdown",
   "id": "4288f09e",
   "metadata": {},
   "source": [
    "Taken directly from Resnet paper\n",
    "\n",
    ">Training on ImageNet. Thin curves denote training error, and bold curves denote validation error of the center crops. Left: plain networks of 18 and 34 layers. Right: ResNets of 18 and 34 layers. In this plot, the residual networks have no extra parameter compared to their plain counterparts."
   ]
  },
  {
   "cell_type": "markdown",
   "id": "2e1251b9",
   "metadata": {},
   "source": [
    "### Summary"
   ]
  },
  {
   "cell_type": "markdown",
   "id": "b80b7416",
   "metadata": {},
   "source": [
    "- Shortcut connections/residual connections/skip connections/skip connections, etc. are all one thing, there is no new theory, just a new expression.\n",
    "- Problem of model degradation when deepening the network could be somewhat alleviated using residual learning."
   ]
  },
  {
   "cell_type": "markdown",
   "id": "b841326a",
   "metadata": {},
   "source": [
    "### References"
   ]
  },
  {
   "cell_type": "markdown",
   "id": "4509142f",
   "metadata": {},
   "source": [
    "- [Resnet paper](https://arxiv.org/pdf/1512.03385.pdf)\n",
    "- [VGG](https://arxiv.org/pdf/1409.1556.pdf)"
   ]
  }
 ],
 "metadata": {
  "kernelspec": {
   "display_name": "experiments",
   "language": "python",
   "name": "experiments"
  },
  "language_info": {
   "codemirror_mode": {
    "name": "ipython",
    "version": 3
   },
   "file_extension": ".py",
   "mimetype": "text/x-python",
   "name": "python",
   "nbconvert_exporter": "python",
   "pygments_lexer": "ipython3",
   "version": "3.7.11"
  }
 },
 "nbformat": 4,
 "nbformat_minor": 5
}
